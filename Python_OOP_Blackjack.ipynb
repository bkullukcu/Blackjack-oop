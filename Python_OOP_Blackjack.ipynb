{
  "nbformat": 4,
  "nbformat_minor": 0,
  "metadata": {
    "colab": {
      "name": "Python OOP Blackjack.ipynb",
      "provenance": [],
      "collapsed_sections": [],
      "authorship_tag": "ABX9TyPHykVqoMQJehXNX8P59gek",
      "include_colab_link": true
    },
    "kernelspec": {
      "name": "python3",
      "display_name": "Python 3"
    },
    "language_info": {
      "name": "python"
    }
  },
  "cells": [
    {
      "cell_type": "markdown",
      "metadata": {
        "id": "view-in-github",
        "colab_type": "text"
      },
      "source": [
        "<a href=\"https://colab.research.google.com/github/bkullukcu/blackjack-oop/blob/master/Python_OOP_Blackjack.ipynb\" target=\"_parent\"><img src=\"https://colab.research.google.com/assets/colab-badge.svg\" alt=\"Open In Colab\"/></a>"
      ]
    },
    {
      "cell_type": "code",
      "source": [
        "import random"
      ],
      "metadata": {
        "id": "_RBM5GSqdCCj"
      },
      "execution_count": null,
      "outputs": []
    },
    {
      "cell_type": "code",
      "execution_count": null,
      "metadata": {
        "id": "7pi4jMW4R2gi"
      },
      "outputs": [],
      "source": [
        "class Deck:\n",
        "\n",
        "  deck = []\n",
        "  colors = ['Hearts', 'Diamonds', 'Spades', 'Clubs']\n",
        "  values = ['Ace','2','3','4','5','6','7','8','9','10','Queen','King','Jack']\n",
        "\n",
        "  def __init__(self):\n",
        "    self.value = self.values\n",
        "    self.color = self.colors\n",
        "\n",
        "    for i in self.values:\n",
        "      for j in self.colors:\n",
        "        self.deck.append(str(i +\" of \"+j))\n",
        "    random.shuffle(self.deck)\n",
        "\n",
        "  def remove_card(self):\n",
        "    self.deck.pop(0)\n",
        "\n",
        "  def show(self):\n",
        "    print(self.deck)\n",
        "\n",
        "  def get_deck(self):\n",
        "    return self.deck\n",
        "\n",
        "  def get_card(self):\n",
        "    return self.deck[0]\n",
        "  \n",
        "  def starting_hand(self):\n",
        "    return list(self.deck[0:2])"
      ]
    },
    {
      "cell_type": "code",
      "source": [
        "class Hand(Deck):\n",
        "\n",
        "  def __init__(self,Deck):\n",
        "    self.hand = Deck.starting_hand()\n",
        "\n",
        "  def get_hand(self):\n",
        "    return list(self.hand)"
      ],
      "metadata": {
        "id": "YEzroV1hhxne"
      },
      "execution_count": null,
      "outputs": []
    },
    {
      "cell_type": "code",
      "source": [
        "class Player(Hand,Deck):\n",
        "\n",
        "  balance = 500\n",
        "\n",
        "  def __init__(self,Hand):\n",
        "    self.hand = Hand.get_hand()\n",
        "\n",
        "  def ask_bet(self):\n",
        "    self.value_subt = input('Type bet: ')\n",
        "    return int(self.value_subt)\n",
        "\n",
        "  def subtract_balance(self):\n",
        "    self.balance -= self.ask_bet()\n",
        "\n",
        "  def check_balance(self):\n",
        "    if self.ask_bet() > self.balance : True\n",
        "\n",
        "  def win_game(self):\n",
        "    self.balance += self.value_subt*2\n",
        "\n",
        "  def new_card(self):\n",
        "    self.Deck.get_card().append(self.hand)\n",
        "    self.Deck.remove_card()\n",
        "\n",
        "  def start_game(self):\n",
        "    print(self.hand)\n",
        "\n",
        "  def get_balance(self):\n",
        "    return self.balance\n"
      ],
      "metadata": {
        "id": "-Kc91lzfoCou"
      },
      "execution_count": null,
      "outputs": []
    },
    {
      "cell_type": "code",
      "source": [
        "class Dealer(Hand,Deck):\n",
        "\n",
        "  def __init__(self,Hand):\n",
        "    self.hand = Hand.get_hand()\n",
        "\n",
        "  def new_card(self):\n",
        "    self.hand.append(Deck.get_card(self))\n",
        "    Deck.remove_card(self)\n",
        "\n",
        "  def start_game(self):\n",
        "    print(self.hand[0])"
      ],
      "metadata": {
        "id": "qCgLVweVty9G"
      },
      "execution_count": null,
      "outputs": []
    },
    {
      "cell_type": "code",
      "source": [
        "def start_blackjack(Player):\n",
        "  print('Welcome to Blackjack!')\n",
        "  print(\"Your balance: \" + str(Player.get_balance()))\n",
        "  Player.ask_bet()\n",
        "  while Player.check_balance():\n",
        "    print(\"Not enough balance!\")\n",
        "    Player.ask_bet()\n",
        "  else:\n",
        "    Player.subtract_balance()"
      ],
      "metadata": {
        "id": "sV1-TtHf9N8I"
      },
      "execution_count": null,
      "outputs": []
    },
    {
      "cell_type": "code",
      "source": [
        "  d = Deck()\n",
        "  hp = Hand(d)\n",
        "  hd = Hand(d)\n",
        "  p = Player(hp)\n",
        "  dea = Dealer(hd)\n"
      ],
      "metadata": {
        "id": "XQBnQcYL_kf2"
      },
      "execution_count": null,
      "outputs": []
    }
  ]
}